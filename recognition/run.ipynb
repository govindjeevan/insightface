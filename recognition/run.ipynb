{
 "cells": [
  {
   "cell_type": "code",
   "execution_count": 1,
   "metadata": {},
   "outputs": [],
   "source": [
    "!export MXNET_CPU_WORKER_NTHREADS=24\n",
    "!export MXNET_ENGINE_TYPE=ThreadedEnginePerDevice"
   ]
  },
  {
   "cell_type": "code",
   "execution_count": null,
   "metadata": {},
   "outputs": [
    {
     "name": "stdout",
     "output_type": "stream",
     "text": [
      "gpu num: 1\n",
      "prefix ./models/r100-arcface-casia/model\n",
      "image_size [112, 112]\n",
      "num_classes 10575\n",
      "Called with argument: Namespace(batch_size=64, ckpt=2, ctx_num=1, dataset='casia', frequent=20, image_channel=3, kvstore='device', loss='arcface', lr=0.001, lr_steps='100000,160000,220000', models_root='./models', mom=0.9, network='r100', per_batch_size=64, pretrained='', pretrained_epoch=1, rescale_threshold=0, verbose=1000, wd=0.0005) {'bn_mom': 0.9, 'workspace': 256, 'emb_size': 512, 'ckpt_embedding': False, 'net_se': 0, 'net_act': 'prelu', 'net_unit': 3, 'net_input': 1, 'net_blocks': [1, 4, 6, 2], 'net_output': 'E', 'net_multiplier': 1.0, 'val_targets': ['lfw-custom', 'lfw'], 'ce_loss': True, 'fc7_lr_mult': 1.0, 'fc7_wd_mult': 1.0, 'fc7_no_bias': False, 'max_steps': 0, 'data_rand_mirror': True, 'data_cutoff': False, 'data_color': 0, 'data_images_filter': 0, 'count_flops': True, 'memonger': False, 'loss_name': 'margin_softmax', 'loss_s': 64.0, 'loss_m1': 1.0, 'loss_m2': 0.5, 'loss_m3': 0.0, 'net_name': 'fresnet', 'num_layers': 100, 'dataset': 'casia', 'dataset_path': '../datasets/faces_webface_112x112', 'num_classes': 10575, 'image_shape': [112, 112, 3], 'loss': 'arcface', 'network': 'r100', 'num_workers': 1, 'batch_size': 64, 'per_batch_size': 64}\n",
      "0 1 E 3 prelu False\n",
      "Network FLOPs: 24.2G\n",
      "INFO:root:loading recordio ../datasets/faces_webface_112x112/train.rec...\n",
      "header0 label [490624. 501196.]\n",
      "id2range 10572\n",
      "490623\n",
      "rand_mirror True\n",
      "loading bin 0\n",
      "loading bin 1000\n",
      "loading bin 2000\n",
      "loading bin 3000\n",
      "loading bin 4000\n",
      "loading bin 5000\n",
      "loading bin 6000\n",
      "loading bin 7000\n",
      "loading bin 8000\n",
      "loading bin 9000\n",
      "loading bin 10000\n",
      "loading bin 11000\n",
      "loading bin 12000\n",
      "loading bin 13000\n",
      "loading bin 14000\n",
      "loading bin 15000\n",
      "loading bin 16000\n",
      "loading bin 17000\n",
      "loading bin 18000\n",
      "loading bin 19000\n",
      "loading bin 20000\n",
      "(20274, 3, 112, 112)\n",
      "ver lfw-custom\n",
      "loading bin 0\n",
      "loading bin 1000\n",
      "loading bin 2000\n",
      "loading bin 3000\n",
      "loading bin 4000\n",
      "loading bin 5000\n",
      "loading bin 6000\n",
      "loading bin 7000\n",
      "loading bin 8000\n",
      "loading bin 9000\n",
      "loading bin 10000\n",
      "loading bin 11000\n",
      "(12000, 3, 112, 112)\n",
      "ver lfw\n",
      "lr_steps [100000, 160000, 220000]\n",
      "call reset()\n",
      "/usr/local/lib/python3.6/dist-packages/mxnet/module/base_module.py:504: UserWarning: Optimizer created manually outside Module but rescale_grad is not normalized to 1.0/batch_size/num_workers (1.0 vs. 0.015625). Is this intended?\n",
      "  optimizer_params=optimizer_params)\n",
      "[20:52:08] src/operator/nn/./cudnn/./cudnn_algoreg-inl.h:97: Running performance tests to find the best convolution algorithm, this can take a while... (set the environment variable MXNET_CUDNN_AUTOTUNE_DEFAULT to 0 to disable)\n",
      "INFO:root:Epoch[0] Batch [0-20]\tSpeed: 97.67 samples/sec\tacc=0.000000\tlossvalue=43.878336\n",
      "INFO:root:Epoch[0] Batch [20-40]\tSpeed: 94.12 samples/sec\tacc=0.000000\tlossvalue=43.688214\n",
      "INFO:root:Epoch[0] Batch [40-60]\tSpeed: 98.94 samples/sec\tacc=0.000000\tlossvalue=43.809064\n",
      "INFO:root:Epoch[0] Batch [60-80]\tSpeed: 98.11 samples/sec\tacc=0.000000\tlossvalue=43.504142\n",
      "INFO:root:Epoch[0] Batch [80-100]\tSpeed: 98.75 samples/sec\tacc=0.000000\tlossvalue=43.479917\n",
      "INFO:root:Epoch[0] Batch [100-120]\tSpeed: 98.66 samples/sec\tacc=0.000000\tlossvalue=43.498419\n",
      "INFO:root:Epoch[0] Batch [120-140]\tSpeed: 98.47 samples/sec\tacc=0.000000\tlossvalue=43.219880\n",
      "INFO:root:Epoch[0] Batch [140-160]\tSpeed: 98.14 samples/sec\tacc=0.000000\tlossvalue=43.227532\n",
      "INFO:root:Epoch[0] Batch [160-180]\tSpeed: 97.93 samples/sec\tacc=0.000000\tlossvalue=43.003198\n",
      "INFO:root:Epoch[0] Batch [180-200]\tSpeed: 97.69 samples/sec\tacc=0.000000\tlossvalue=43.138786\n",
      "INFO:root:Epoch[0] Batch [200-220]\tSpeed: 97.59 samples/sec\tacc=0.000000\tlossvalue=42.891590\n",
      "INFO:root:Epoch[0] Batch [220-240]\tSpeed: 96.84 samples/sec\tacc=0.000000\tlossvalue=42.768922\n",
      "INFO:root:Epoch[0] Batch [240-260]\tSpeed: 95.78 samples/sec\tacc=0.000000\tlossvalue=42.775769\n",
      "INFO:root:Epoch[0] Batch [260-280]\tSpeed: 95.79 samples/sec\tacc=0.000000\tlossvalue=42.530523\n",
      "INFO:root:Epoch[0] Batch [280-300]\tSpeed: 95.77 samples/sec\tacc=0.000000\tlossvalue=42.543128\n",
      "INFO:root:Epoch[0] Batch [300-320]\tSpeed: 95.69 samples/sec\tacc=0.000000\tlossvalue=42.350471\n",
      "INFO:root:Epoch[0] Batch [320-340]\tSpeed: 95.77 samples/sec\tacc=0.000000\tlossvalue=42.464969\n",
      "INFO:root:Epoch[0] Batch [340-360]\tSpeed: 95.74 samples/sec\tacc=0.000000\tlossvalue=42.236604\n",
      "INFO:root:Epoch[0] Batch [360-380]\tSpeed: 95.73 samples/sec\tacc=0.000000\tlossvalue=42.105259\n",
      "INFO:root:Epoch[0] Batch [380-400]\tSpeed: 95.73 samples/sec\tacc=0.000000\tlossvalue=42.182243\n",
      "INFO:root:Epoch[0] Batch [400-420]\tSpeed: 95.75 samples/sec\tacc=0.000000\tlossvalue=41.886178\n",
      "INFO:root:Epoch[0] Batch [420-440]\tSpeed: 95.72 samples/sec\tacc=0.000000\tlossvalue=41.907022\n",
      "INFO:root:Epoch[0] Batch [440-460]\tSpeed: 95.75 samples/sec\tacc=0.000000\tlossvalue=41.882640\n",
      "INFO:root:Epoch[0] Batch [460-480]\tSpeed: 95.75 samples/sec\tacc=0.000000\tlossvalue=41.756201\n",
      "INFO:root:Epoch[0] Batch [480-500]\tSpeed: 95.72 samples/sec\tacc=0.000000\tlossvalue=41.774496\n",
      "INFO:root:Epoch[0] Batch [500-520]\tSpeed: 95.74 samples/sec\tacc=0.000000\tlossvalue=41.765583\n",
      "INFO:root:Epoch[0] Batch [520-540]\tSpeed: 95.71 samples/sec\tacc=0.000000\tlossvalue=41.719107\n",
      "INFO:root:Epoch[0] Batch [540-560]\tSpeed: 95.71 samples/sec\tacc=0.000000\tlossvalue=41.485943\n",
      "INFO:root:Epoch[0] Batch [560-580]\tSpeed: 13.11 samples/sec\tacc=0.000000\tlossvalue=41.511776\n",
      "INFO:root:Epoch[0] Batch [580-600]\tSpeed: 30.70 samples/sec\tacc=0.000000\tlossvalue=41.460958\n",
      "INFO:root:Epoch[0] Batch [600-620]\tSpeed: 98.44 samples/sec\tacc=0.000000\tlossvalue=41.403993\n",
      "INFO:root:Epoch[0] Batch [620-640]\tSpeed: 98.21 samples/sec\tacc=0.000000\tlossvalue=41.634682\n",
      "INFO:root:Epoch[0] Batch [640-660]\tSpeed: 97.96 samples/sec\tacc=0.000000\tlossvalue=41.442572\n",
      "INFO:root:Epoch[0] Batch [660-680]\tSpeed: 97.05 samples/sec\tacc=0.000000\tlossvalue=41.470018\n",
      "INFO:root:Epoch[0] Batch [680-700]\tSpeed: 98.30 samples/sec\tacc=0.000000\tlossvalue=41.362635\n",
      "INFO:root:Epoch[0] Batch [700-720]\tSpeed: 97.03 samples/sec\tacc=0.000000\tlossvalue=41.383649\n",
      "INFO:root:Epoch[0] Batch [720-740]\tSpeed: 95.85 samples/sec\tacc=0.000000\tlossvalue=41.240888\n",
      "INFO:root:Epoch[0] Batch [740-760]\tSpeed: 95.82 samples/sec\tacc=0.000000\tlossvalue=41.250980\n",
      "INFO:root:Epoch[0] Batch [760-780]\tSpeed: 95.80 samples/sec\tacc=0.000000\tlossvalue=41.126777\n",
      "INFO:root:Epoch[0] Batch [780-800]\tSpeed: 95.79 samples/sec\tacc=0.000000\tlossvalue=41.030922\n",
      "INFO:root:Epoch[0] Batch [800-820]\tSpeed: 95.72 samples/sec\tacc=0.000000\tlossvalue=41.120734\n"
     ]
    }
   ],
   "source": [
    "!CUDA_VISIBLE_DEVICES='0' python3 -u train.py --network r100 --loss arcface --dataset casia --ckpt 2"
   ]
  },
  {
   "cell_type": "code",
   "execution_count": 2,
   "metadata": {
    "scrolled": true
   },
   "outputs": [
    {
     "name": "stdout",
     "output_type": "stream",
     "text": [
      "gpu num: 1\n",
      "prefix ./models/r100-arcface-casia_masked/model\n",
      "image_size [112, 112]\n",
      "num_classes 10575\n",
      "Called with argument: Namespace(batch_size=32, ckpt=2, ctx_num=1, dataset='casia_masked', frequent=20, image_channel=3, kvstore='device', loss='arcface', lr=0.001, lr_steps='100000,160000,220000', models_root='./models', mom=0.9, network='r100', per_batch_size=32, pretrained='models/r100-arcface-casia_masked/model', pretrained_epoch=14, rescale_threshold=0, verbose=500, wd=0.0005) {'bn_mom': 0.9, 'workspace': 256, 'emb_size': 512, 'ckpt_embedding': True, 'net_se': 0, 'net_act': 'prelu', 'net_unit': 3, 'net_input': 1, 'net_blocks': [1, 4, 6, 2], 'net_output': 'E', 'net_multiplier': 1.0, 'val_targets': ['lfw'], 'ce_loss': True, 'fc7_lr_mult': 1.0, 'fc7_wd_mult': 1.0, 'fc7_no_bias': False, 'max_steps': 0, 'data_rand_mirror': True, 'data_cutoff': False, 'data_color': 0, 'data_images_filter': 0, 'count_flops': True, 'memonger': False, 'loss_name': 'margin_softmax', 'loss_s': 64.0, 'loss_m1': 1.0, 'loss_m2': 0.5, 'loss_m3': 0.0, 'net_name': 'fresnet', 'num_layers': 100, 'dataset': 'casia_masked', 'dataset_path': '/storage/MysterioNet/datasets/smdf/original/casia', 'num_classes': 10575, 'image_shape': [112, 112, 3], 'loss': 'arcface', 'network': 'r100', 'num_workers': 1, 'batch_size': 32, 'per_batch_size': 32}\n",
      "loading models/r100-arcface-casia_masked/model 14\n",
      "0 1 E 3 prelu False\n",
      "Network FLOPs: 24.2G\n",
      "INFO:root:loading recordio /storage/MysterioNet/datasets/smdf/original/casia/train.rec...\n",
      "header0 label [493690. 504265.]\n",
      "id2range 10575\n",
      "493689\n",
      "rand_mirror True\n",
      "loading bin 0\n",
      "loading bin 1000\n",
      "loading bin 2000\n",
      "loading bin 3000\n",
      "loading bin 4000\n",
      "loading bin 5000\n",
      "loading bin 6000\n",
      "loading bin 7000\n",
      "loading bin 8000\n",
      "loading bin 9000\n",
      "loading bin 10000\n",
      "loading bin 11000\n",
      "(12000, 3, 112, 112)\n",
      "ver lfw\n",
      "lr_steps [100000, 160000, 220000]\n",
      "call reset()\n",
      "/usr/local/lib/python3.6/dist-packages/mxnet/module/base_module.py:504: UserWarning: Optimizer created manually outside Module but rescale_grad is not normalized to 1.0/batch_size/num_workers (1.0 vs. 0.03125). Is this intended?\n",
      "  optimizer_params=optimizer_params)\n",
      "[18:30:01] src/operator/nn/./cudnn/./cudnn_algoreg-inl.h:97: Running performance tests to find the best convolution algorithm, this can take a while... (set the environment variable MXNET_CUDNN_AUTOTUNE_DEFAULT to 0 to disable)\n",
      "INFO:root:Epoch[0] Batch [0-20]\tSpeed: 35.47 samples/sec\tacc=0.000000\tlossvalue=43.169715\n",
      "INFO:root:Epoch[0] Batch [20-40]\tSpeed: 35.81 samples/sec\tacc=0.000000\tlossvalue=43.546546\n",
      "INFO:root:Epoch[0] Batch [40-60]\tSpeed: 35.76 samples/sec\tacc=0.000000\tlossvalue=43.544596\n",
      "INFO:root:Epoch[0] Batch [60-80]\tSpeed: 35.72 samples/sec\tacc=0.000000\tlossvalue=43.207700\n",
      "INFO:root:Epoch[0] Batch [80-100]\tSpeed: 35.69 samples/sec\tacc=0.000000\tlossvalue=43.414145\n",
      "INFO:root:Epoch[0] Batch [100-120]\tSpeed: 35.67 samples/sec\tacc=0.000000\tlossvalue=43.131639\n",
      "INFO:root:Epoch[0] Batch [120-140]\tSpeed: 35.69 samples/sec\tacc=0.000000\tlossvalue=43.184671\n",
      "INFO:root:Epoch[0] Batch [140-160]\tSpeed: 35.68 samples/sec\tacc=0.000000\tlossvalue=43.065230\n",
      "INFO:root:Epoch[0] Batch [160-180]\tSpeed: 35.68 samples/sec\tacc=0.000000\tlossvalue=43.072112\n",
      "INFO:root:Epoch[0] Batch [180-200]\tSpeed: 35.69 samples/sec\tacc=0.000000\tlossvalue=42.887457\n",
      "INFO:root:Epoch[0] Batch [200-220]\tSpeed: 35.68 samples/sec\tacc=0.000000\tlossvalue=42.773726\n",
      "INFO:root:Epoch[0] Batch [220-240]\tSpeed: 35.69 samples/sec\tacc=0.000000\tlossvalue=42.809900\n",
      "INFO:root:Epoch[0] Batch [240-260]\tSpeed: 35.71 samples/sec\tacc=0.000000\tlossvalue=42.749399\n",
      "INFO:root:Epoch[0] Batch [260-280]\tSpeed: 35.68 samples/sec\tacc=0.000000\tlossvalue=42.537449\n",
      "INFO:root:Epoch[0] Batch [280-300]\tSpeed: 35.69 samples/sec\tacc=0.000000\tlossvalue=42.840055\n",
      "INFO:root:Epoch[0] Batch [300-320]\tSpeed: 35.70 samples/sec\tacc=0.000000\tlossvalue=42.436608\n",
      "INFO:root:Epoch[0] Batch [320-340]\tSpeed: 35.71 samples/sec\tacc=0.000000\tlossvalue=42.671576\n",
      "INFO:root:Epoch[0] Batch [340-360]\tSpeed: 35.69 samples/sec\tacc=0.000000\tlossvalue=42.606985\n",
      "INFO:root:Epoch[0] Batch [360-380]\tSpeed: 35.70 samples/sec\tacc=0.000000\tlossvalue=42.549994\n",
      "INFO:root:Epoch[0] Batch [380-400]\tSpeed: 35.70 samples/sec\tacc=0.000000\tlossvalue=42.625550\n",
      "INFO:root:Epoch[0] Batch [400-420]\tSpeed: 35.66 samples/sec\tacc=0.000000\tlossvalue=42.442123\n",
      "INFO:root:Epoch[0] Batch [420-440]\tSpeed: 35.68 samples/sec\tacc=0.000000\tlossvalue=42.398152\n",
      "INFO:root:Epoch[0] Batch [440-460]\tSpeed: 35.69 samples/sec\tacc=0.000000\tlossvalue=42.409363\n",
      "INFO:root:Epoch[0] Batch [460-480]\tSpeed: 35.65 samples/sec\tacc=0.000000\tlossvalue=42.283219\n",
      "testing verification..\n",
      "(12000, 512)\n",
      "infer time 201.93538600000025\n",
      "[lfw][500]XNorm: 23.746567\n",
      "[lfw][500]Accuracy-Flip: 0.79833+-0.02182\n",
      "saving 1\n",
      "INFO:root:Saved checkpoint to \"./models/r100-arcface-casia_masked/model-0001.params\"\n",
      "[500]Accuracy-Highest: 0.79833\n",
      "INFO:root:Epoch[0] Batch [480-500]\tSpeed: 2.83 samples/sec\tacc=0.000000\tlossvalue=42.230851\n",
      "INFO:root:Epoch[0] Batch [500-520]\tSpeed: 35.67 samples/sec\tacc=0.000000\tlossvalue=42.046782\n",
      "INFO:root:Epoch[0] Batch [520-540]\tSpeed: 35.68 samples/sec\tacc=0.000000\tlossvalue=42.283707\n",
      "INFO:root:Epoch[0] Batch [540-560]\tSpeed: 35.67 samples/sec\tacc=0.000000\tlossvalue=42.175671\n",
      "INFO:root:Epoch[0] Batch [560-580]\tSpeed: 35.66 samples/sec\tacc=0.000000\tlossvalue=42.256869\n",
      "Exception in thread Thread-1:\n",
      "Traceback (most recent call last):\n",
      "  File \"/usr/lib/python3.6/threading.py\", line 916, in _bootstrap_inner\n",
      "    self.run()\n",
      "  File \"/usr/lib/python3.6/threading.py\", line 864, in run\n",
      "    self._target(*self._args, **self._kwargs)\n",
      "  File \"/usr/local/lib/python3.6/dist-packages/mxnet/io/io.py\", line 399, in prefetch_func\n",
      "    self.next_batch[i] = self.iters[i].next()\n",
      "  File \"/storage/MysterioNet/tool-eval/cnns/insightface-mx/recognition/image_iter.py\", line 198, in next\n",
      "    label, s, bbox, landmark = self.next_sample()\n",
      "  File \"/storage/MysterioNet/tool-eval/cnns/insightface-mx/recognition/image_iter.py\", line 114, in next_sample\n",
      "    s = self.imgrec.read_idx(idx)\n",
      "  File \"/usr/local/lib/python3.6/dist-packages/mxnet/recordio.py\", line 317, in read_idx\n",
      "    self.seek(idx)\n",
      "  File \"/usr/local/lib/python3.6/dist-packages/mxnet/recordio.py\", line 279, in seek\n",
      "    pos = ctypes.c_size_t(self.idx[idx])\n",
      "KeyError: 156644\n",
      "\n",
      "^C\n"
     ]
    },
    {
     "ename": "KeyboardInterrupt",
     "evalue": "",
     "output_type": "error",
     "traceback": [
      "\u001b[0;31m---------------------------------------------------------------------------\u001b[0m",
      "\u001b[0;31mKeyboardInterrupt\u001b[0m                         Traceback (most recent call last)",
      "\u001b[0;32m/usr/local/lib/python3.6/dist-packages/IPython/utils/_process_posix.py\u001b[0m in \u001b[0;36msystem\u001b[0;34m(self, cmd)\u001b[0m\n\u001b[1;32m    160\u001b[0m                 \u001b[0;31m# know whether we've finished (if we matched EOF) or not\u001b[0m\u001b[0;34m\u001b[0m\u001b[0;34m\u001b[0m\u001b[0;34m\u001b[0m\u001b[0m\n\u001b[0;32m--> 161\u001b[0;31m                 \u001b[0mres_idx\u001b[0m \u001b[0;34m=\u001b[0m \u001b[0mchild\u001b[0m\u001b[0;34m.\u001b[0m\u001b[0mexpect_list\u001b[0m\u001b[0;34m(\u001b[0m\u001b[0mpatterns\u001b[0m\u001b[0;34m,\u001b[0m \u001b[0mself\u001b[0m\u001b[0;34m.\u001b[0m\u001b[0mread_timeout\u001b[0m\u001b[0;34m)\u001b[0m\u001b[0;34m\u001b[0m\u001b[0;34m\u001b[0m\u001b[0m\n\u001b[0m\u001b[1;32m    162\u001b[0m                 \u001b[0mprint\u001b[0m\u001b[0;34m(\u001b[0m\u001b[0mchild\u001b[0m\u001b[0;34m.\u001b[0m\u001b[0mbefore\u001b[0m\u001b[0;34m[\u001b[0m\u001b[0mout_size\u001b[0m\u001b[0;34m:\u001b[0m\u001b[0;34m]\u001b[0m\u001b[0;34m.\u001b[0m\u001b[0mdecode\u001b[0m\u001b[0;34m(\u001b[0m\u001b[0menc\u001b[0m\u001b[0;34m,\u001b[0m \u001b[0;34m'replace'\u001b[0m\u001b[0;34m)\u001b[0m\u001b[0;34m,\u001b[0m \u001b[0mend\u001b[0m\u001b[0;34m=\u001b[0m\u001b[0;34m''\u001b[0m\u001b[0;34m)\u001b[0m\u001b[0;34m\u001b[0m\u001b[0;34m\u001b[0m\u001b[0m\n",
      "\u001b[0;32m/usr/local/lib/python3.6/dist-packages/pexpect/spawnbase.py\u001b[0m in \u001b[0;36mexpect_list\u001b[0;34m(self, pattern_list, timeout, searchwindowsize, async_, **kw)\u001b[0m\n\u001b[1;32m    371\u001b[0m         \u001b[0;32melse\u001b[0m\u001b[0;34m:\u001b[0m\u001b[0;34m\u001b[0m\u001b[0;34m\u001b[0m\u001b[0m\n\u001b[0;32m--> 372\u001b[0;31m             \u001b[0;32mreturn\u001b[0m \u001b[0mexp\u001b[0m\u001b[0;34m.\u001b[0m\u001b[0mexpect_loop\u001b[0m\u001b[0;34m(\u001b[0m\u001b[0mtimeout\u001b[0m\u001b[0;34m)\u001b[0m\u001b[0;34m\u001b[0m\u001b[0;34m\u001b[0m\u001b[0m\n\u001b[0m\u001b[1;32m    373\u001b[0m \u001b[0;34m\u001b[0m\u001b[0m\n",
      "\u001b[0;32m/usr/local/lib/python3.6/dist-packages/pexpect/expect.py\u001b[0m in \u001b[0;36mexpect_loop\u001b[0;34m(self, timeout)\u001b[0m\n\u001b[1;32m    168\u001b[0m                 \u001b[0;31m# Still have time left, so read more data\u001b[0m\u001b[0;34m\u001b[0m\u001b[0;34m\u001b[0m\u001b[0;34m\u001b[0m\u001b[0m\n\u001b[0;32m--> 169\u001b[0;31m                 \u001b[0mincoming\u001b[0m \u001b[0;34m=\u001b[0m \u001b[0mspawn\u001b[0m\u001b[0;34m.\u001b[0m\u001b[0mread_nonblocking\u001b[0m\u001b[0;34m(\u001b[0m\u001b[0mspawn\u001b[0m\u001b[0;34m.\u001b[0m\u001b[0mmaxread\u001b[0m\u001b[0;34m,\u001b[0m \u001b[0mtimeout\u001b[0m\u001b[0;34m)\u001b[0m\u001b[0;34m\u001b[0m\u001b[0;34m\u001b[0m\u001b[0m\n\u001b[0m\u001b[1;32m    170\u001b[0m                 \u001b[0;32mif\u001b[0m \u001b[0mself\u001b[0m\u001b[0;34m.\u001b[0m\u001b[0mspawn\u001b[0m\u001b[0;34m.\u001b[0m\u001b[0mdelayafterread\u001b[0m \u001b[0;32mis\u001b[0m \u001b[0;32mnot\u001b[0m \u001b[0;32mNone\u001b[0m\u001b[0;34m:\u001b[0m\u001b[0;34m\u001b[0m\u001b[0;34m\u001b[0m\u001b[0m\n",
      "\u001b[0;32m/usr/local/lib/python3.6/dist-packages/pexpect/pty_spawn.py\u001b[0m in \u001b[0;36mread_nonblocking\u001b[0;34m(self, size, timeout)\u001b[0m\n\u001b[1;32m    499\u001b[0m         \u001b[0;31m# (possibly timeout=None), we call select() with a timeout.\u001b[0m\u001b[0;34m\u001b[0m\u001b[0;34m\u001b[0m\u001b[0;34m\u001b[0m\u001b[0m\n\u001b[0;32m--> 500\u001b[0;31m         \u001b[0;32mif\u001b[0m \u001b[0;34m(\u001b[0m\u001b[0mtimeout\u001b[0m \u001b[0;34m!=\u001b[0m \u001b[0;36m0\u001b[0m\u001b[0;34m)\u001b[0m \u001b[0;32mand\u001b[0m \u001b[0mselect\u001b[0m\u001b[0;34m(\u001b[0m\u001b[0mtimeout\u001b[0m\u001b[0;34m)\u001b[0m\u001b[0;34m:\u001b[0m\u001b[0;34m\u001b[0m\u001b[0;34m\u001b[0m\u001b[0m\n\u001b[0m\u001b[1;32m    501\u001b[0m             \u001b[0;32mreturn\u001b[0m \u001b[0msuper\u001b[0m\u001b[0;34m(\u001b[0m\u001b[0mspawn\u001b[0m\u001b[0;34m,\u001b[0m \u001b[0mself\u001b[0m\u001b[0;34m)\u001b[0m\u001b[0;34m.\u001b[0m\u001b[0mread_nonblocking\u001b[0m\u001b[0;34m(\u001b[0m\u001b[0msize\u001b[0m\u001b[0;34m)\u001b[0m\u001b[0;34m\u001b[0m\u001b[0;34m\u001b[0m\u001b[0m\n",
      "\u001b[0;32m/usr/local/lib/python3.6/dist-packages/pexpect/pty_spawn.py\u001b[0m in \u001b[0;36mselect\u001b[0;34m(timeout)\u001b[0m\n\u001b[1;32m    449\u001b[0m             \u001b[0;32mdef\u001b[0m \u001b[0mselect\u001b[0m\u001b[0;34m(\u001b[0m\u001b[0mtimeout\u001b[0m\u001b[0;34m)\u001b[0m\u001b[0;34m:\u001b[0m\u001b[0;34m\u001b[0m\u001b[0;34m\u001b[0m\u001b[0m\n\u001b[0;32m--> 450\u001b[0;31m                 \u001b[0;32mreturn\u001b[0m \u001b[0mselect_ignore_interrupts\u001b[0m\u001b[0;34m(\u001b[0m\u001b[0;34m[\u001b[0m\u001b[0mself\u001b[0m\u001b[0;34m.\u001b[0m\u001b[0mchild_fd\u001b[0m\u001b[0;34m]\u001b[0m\u001b[0;34m,\u001b[0m \u001b[0;34m[\u001b[0m\u001b[0;34m]\u001b[0m\u001b[0;34m,\u001b[0m \u001b[0;34m[\u001b[0m\u001b[0;34m]\u001b[0m\u001b[0;34m,\u001b[0m \u001b[0mtimeout\u001b[0m\u001b[0;34m)\u001b[0m\u001b[0;34m[\u001b[0m\u001b[0;36m0\u001b[0m\u001b[0;34m]\u001b[0m\u001b[0;34m\u001b[0m\u001b[0;34m\u001b[0m\u001b[0m\n\u001b[0m\u001b[1;32m    451\u001b[0m \u001b[0;34m\u001b[0m\u001b[0m\n",
      "\u001b[0;32m/usr/local/lib/python3.6/dist-packages/pexpect/utils.py\u001b[0m in \u001b[0;36mselect_ignore_interrupts\u001b[0;34m(iwtd, owtd, ewtd, timeout)\u001b[0m\n\u001b[1;32m    142\u001b[0m         \u001b[0;32mtry\u001b[0m\u001b[0;34m:\u001b[0m\u001b[0;34m\u001b[0m\u001b[0;34m\u001b[0m\u001b[0m\n\u001b[0;32m--> 143\u001b[0;31m             \u001b[0;32mreturn\u001b[0m \u001b[0mselect\u001b[0m\u001b[0;34m.\u001b[0m\u001b[0mselect\u001b[0m\u001b[0;34m(\u001b[0m\u001b[0miwtd\u001b[0m\u001b[0;34m,\u001b[0m \u001b[0mowtd\u001b[0m\u001b[0;34m,\u001b[0m \u001b[0mewtd\u001b[0m\u001b[0;34m,\u001b[0m \u001b[0mtimeout\u001b[0m\u001b[0;34m)\u001b[0m\u001b[0;34m\u001b[0m\u001b[0;34m\u001b[0m\u001b[0m\n\u001b[0m\u001b[1;32m    144\u001b[0m         \u001b[0;32mexcept\u001b[0m \u001b[0mInterruptedError\u001b[0m\u001b[0;34m:\u001b[0m\u001b[0;34m\u001b[0m\u001b[0;34m\u001b[0m\u001b[0m\n",
      "\u001b[0;31mKeyboardInterrupt\u001b[0m: ",
      "\nDuring handling of the above exception, another exception occurred:\n",
      "\u001b[0;31mKeyboardInterrupt\u001b[0m                         Traceback (most recent call last)",
      "\u001b[0;32m<ipython-input-2-7b04949cfb60>\u001b[0m in \u001b[0;36m<module>\u001b[0;34m\u001b[0m\n\u001b[0;32m----> 1\u001b[0;31m \u001b[0mget_ipython\u001b[0m\u001b[0;34m(\u001b[0m\u001b[0;34m)\u001b[0m\u001b[0;34m.\u001b[0m\u001b[0msystem\u001b[0m\u001b[0;34m(\u001b[0m\u001b[0;34m\"CUDA_VISIBLE_DEVICES='0' python3 -u train.py --network r100 --loss arcface --dataset casia_masked --ckpt 2 --pretrained models/r100-arcface-casia_masked/model --pretrained-epoch 14 \"\u001b[0m\u001b[0;34m)\u001b[0m\u001b[0;34m\u001b[0m\u001b[0;34m\u001b[0m\u001b[0m\n\u001b[0m",
      "\u001b[0;32m/usr/local/lib/python3.6/dist-packages/ipykernel/zmqshell.py\u001b[0m in \u001b[0;36msystem_piped\u001b[0;34m(self, cmd)\u001b[0m\n\u001b[1;32m    633\u001b[0m                 \u001b[0mself\u001b[0m\u001b[0;34m.\u001b[0m\u001b[0muser_ns\u001b[0m\u001b[0;34m[\u001b[0m\u001b[0;34m'_exit_code'\u001b[0m\u001b[0;34m]\u001b[0m \u001b[0;34m=\u001b[0m \u001b[0msystem\u001b[0m\u001b[0;34m(\u001b[0m\u001b[0mcmd\u001b[0m\u001b[0;34m)\u001b[0m\u001b[0;34m\u001b[0m\u001b[0;34m\u001b[0m\u001b[0m\n\u001b[1;32m    634\u001b[0m         \u001b[0;32melse\u001b[0m\u001b[0;34m:\u001b[0m\u001b[0;34m\u001b[0m\u001b[0;34m\u001b[0m\u001b[0m\n\u001b[0;32m--> 635\u001b[0;31m             \u001b[0mself\u001b[0m\u001b[0;34m.\u001b[0m\u001b[0muser_ns\u001b[0m\u001b[0;34m[\u001b[0m\u001b[0;34m'_exit_code'\u001b[0m\u001b[0;34m]\u001b[0m \u001b[0;34m=\u001b[0m \u001b[0msystem\u001b[0m\u001b[0;34m(\u001b[0m\u001b[0mself\u001b[0m\u001b[0;34m.\u001b[0m\u001b[0mvar_expand\u001b[0m\u001b[0;34m(\u001b[0m\u001b[0mcmd\u001b[0m\u001b[0;34m,\u001b[0m \u001b[0mdepth\u001b[0m\u001b[0;34m=\u001b[0m\u001b[0;36m1\u001b[0m\u001b[0;34m)\u001b[0m\u001b[0;34m)\u001b[0m\u001b[0;34m\u001b[0m\u001b[0;34m\u001b[0m\u001b[0m\n\u001b[0m\u001b[1;32m    636\u001b[0m \u001b[0;34m\u001b[0m\u001b[0m\n\u001b[1;32m    637\u001b[0m     \u001b[0;31m# Ensure new system_piped implementation is used\u001b[0m\u001b[0;34m\u001b[0m\u001b[0;34m\u001b[0m\u001b[0;34m\u001b[0m\u001b[0m\n",
      "\u001b[0;32m/usr/local/lib/python3.6/dist-packages/IPython/utils/_process_posix.py\u001b[0m in \u001b[0;36msystem\u001b[0;34m(self, cmd)\u001b[0m\n\u001b[1;32m    183\u001b[0m             \u001b[0;32mfinally\u001b[0m\u001b[0;34m:\u001b[0m\u001b[0;34m\u001b[0m\u001b[0;34m\u001b[0m\u001b[0m\n\u001b[1;32m    184\u001b[0m                 \u001b[0;31m# Ensure the subprocess really is terminated\u001b[0m\u001b[0;34m\u001b[0m\u001b[0;34m\u001b[0m\u001b[0;34m\u001b[0m\u001b[0m\n\u001b[0;32m--> 185\u001b[0;31m                 \u001b[0mchild\u001b[0m\u001b[0;34m.\u001b[0m\u001b[0mterminate\u001b[0m\u001b[0;34m(\u001b[0m\u001b[0mforce\u001b[0m\u001b[0;34m=\u001b[0m\u001b[0;32mTrue\u001b[0m\u001b[0;34m)\u001b[0m\u001b[0;34m\u001b[0m\u001b[0;34m\u001b[0m\u001b[0m\n\u001b[0m\u001b[1;32m    186\u001b[0m         \u001b[0;31m# add isalive check, to ensure exitstatus is set:\u001b[0m\u001b[0;34m\u001b[0m\u001b[0;34m\u001b[0m\u001b[0;34m\u001b[0m\u001b[0m\n\u001b[1;32m    187\u001b[0m         \u001b[0mchild\u001b[0m\u001b[0;34m.\u001b[0m\u001b[0misalive\u001b[0m\u001b[0;34m(\u001b[0m\u001b[0;34m)\u001b[0m\u001b[0;34m\u001b[0m\u001b[0;34m\u001b[0m\u001b[0m\n",
      "\u001b[0;32m/usr/local/lib/python3.6/dist-packages/pexpect/pty_spawn.py\u001b[0m in \u001b[0;36mterminate\u001b[0;34m(self, force)\u001b[0m\n\u001b[1;32m    640\u001b[0m         \u001b[0;32mtry\u001b[0m\u001b[0;34m:\u001b[0m\u001b[0;34m\u001b[0m\u001b[0;34m\u001b[0m\u001b[0m\n\u001b[1;32m    641\u001b[0m             \u001b[0mself\u001b[0m\u001b[0;34m.\u001b[0m\u001b[0mkill\u001b[0m\u001b[0;34m(\u001b[0m\u001b[0msignal\u001b[0m\u001b[0;34m.\u001b[0m\u001b[0mSIGHUP\u001b[0m\u001b[0;34m)\u001b[0m\u001b[0;34m\u001b[0m\u001b[0;34m\u001b[0m\u001b[0m\n\u001b[0;32m--> 642\u001b[0;31m             \u001b[0mtime\u001b[0m\u001b[0;34m.\u001b[0m\u001b[0msleep\u001b[0m\u001b[0;34m(\u001b[0m\u001b[0mself\u001b[0m\u001b[0;34m.\u001b[0m\u001b[0mdelayafterterminate\u001b[0m\u001b[0;34m)\u001b[0m\u001b[0;34m\u001b[0m\u001b[0;34m\u001b[0m\u001b[0m\n\u001b[0m\u001b[1;32m    643\u001b[0m             \u001b[0;32mif\u001b[0m \u001b[0;32mnot\u001b[0m \u001b[0mself\u001b[0m\u001b[0;34m.\u001b[0m\u001b[0misalive\u001b[0m\u001b[0;34m(\u001b[0m\u001b[0;34m)\u001b[0m\u001b[0;34m:\u001b[0m\u001b[0;34m\u001b[0m\u001b[0;34m\u001b[0m\u001b[0m\n\u001b[1;32m    644\u001b[0m                 \u001b[0;32mreturn\u001b[0m \u001b[0;32mTrue\u001b[0m\u001b[0;34m\u001b[0m\u001b[0;34m\u001b[0m\u001b[0m\n",
      "\u001b[0;31mKeyboardInterrupt\u001b[0m: "
     ]
    }
   ],
   "source": [
    "!CUDA_VISIBLE_DEVICES='0' python3 -u train.py --network r100 --loss arcface --dataset casia_masked --ckpt 2 --pretrained models/r100-arcface-casia_masked/model --pretrained-epoch 1 "
   ]
  },
  {
   "cell_type": "code",
   "execution_count": 28,
   "metadata": {
    "collapsed": true
   },
   "outputs": [
    {
     "name": "stdout",
     "output_type": "stream",
     "text": [
      "image_size [112, 112]\n",
      "model number 1\n",
      "loading models/r100-arcface-casia_masked/model 14\n",
      "^C\n"
     ]
    },
    {
     "ename": "KeyboardInterrupt",
     "evalue": "",
     "output_type": "error",
     "traceback": [
      "\u001b[0;31m---------------------------------------------------------------------------\u001b[0m",
      "\u001b[0;31mKeyboardInterrupt\u001b[0m                         Traceback (most recent call last)",
      "\u001b[0;32m/usr/local/lib/python3.6/dist-packages/IPython/utils/_process_posix.py\u001b[0m in \u001b[0;36msystem\u001b[0;34m(self, cmd)\u001b[0m\n\u001b[1;32m    160\u001b[0m                 \u001b[0;31m# know whether we've finished (if we matched EOF) or not\u001b[0m\u001b[0;34m\u001b[0m\u001b[0;34m\u001b[0m\u001b[0;34m\u001b[0m\u001b[0m\n\u001b[0;32m--> 161\u001b[0;31m                 \u001b[0mres_idx\u001b[0m \u001b[0;34m=\u001b[0m \u001b[0mchild\u001b[0m\u001b[0;34m.\u001b[0m\u001b[0mexpect_list\u001b[0m\u001b[0;34m(\u001b[0m\u001b[0mpatterns\u001b[0m\u001b[0;34m,\u001b[0m \u001b[0mself\u001b[0m\u001b[0;34m.\u001b[0m\u001b[0mread_timeout\u001b[0m\u001b[0;34m)\u001b[0m\u001b[0;34m\u001b[0m\u001b[0;34m\u001b[0m\u001b[0m\n\u001b[0m\u001b[1;32m    162\u001b[0m                 \u001b[0mprint\u001b[0m\u001b[0;34m(\u001b[0m\u001b[0mchild\u001b[0m\u001b[0;34m.\u001b[0m\u001b[0mbefore\u001b[0m\u001b[0;34m[\u001b[0m\u001b[0mout_size\u001b[0m\u001b[0;34m:\u001b[0m\u001b[0;34m]\u001b[0m\u001b[0;34m.\u001b[0m\u001b[0mdecode\u001b[0m\u001b[0;34m(\u001b[0m\u001b[0menc\u001b[0m\u001b[0;34m,\u001b[0m \u001b[0;34m'replace'\u001b[0m\u001b[0;34m)\u001b[0m\u001b[0;34m,\u001b[0m \u001b[0mend\u001b[0m\u001b[0;34m=\u001b[0m\u001b[0;34m''\u001b[0m\u001b[0;34m)\u001b[0m\u001b[0;34m\u001b[0m\u001b[0;34m\u001b[0m\u001b[0m\n",
      "\u001b[0;32m/usr/local/lib/python3.6/dist-packages/pexpect/spawnbase.py\u001b[0m in \u001b[0;36mexpect_list\u001b[0;34m(self, pattern_list, timeout, searchwindowsize, async_, **kw)\u001b[0m\n\u001b[1;32m    371\u001b[0m         \u001b[0;32melse\u001b[0m\u001b[0;34m:\u001b[0m\u001b[0;34m\u001b[0m\u001b[0;34m\u001b[0m\u001b[0m\n\u001b[0;32m--> 372\u001b[0;31m             \u001b[0;32mreturn\u001b[0m \u001b[0mexp\u001b[0m\u001b[0;34m.\u001b[0m\u001b[0mexpect_loop\u001b[0m\u001b[0;34m(\u001b[0m\u001b[0mtimeout\u001b[0m\u001b[0;34m)\u001b[0m\u001b[0;34m\u001b[0m\u001b[0;34m\u001b[0m\u001b[0m\n\u001b[0m\u001b[1;32m    373\u001b[0m \u001b[0;34m\u001b[0m\u001b[0m\n",
      "\u001b[0;32m/usr/local/lib/python3.6/dist-packages/pexpect/expect.py\u001b[0m in \u001b[0;36mexpect_loop\u001b[0;34m(self, timeout)\u001b[0m\n\u001b[1;32m    168\u001b[0m                 \u001b[0;31m# Still have time left, so read more data\u001b[0m\u001b[0;34m\u001b[0m\u001b[0;34m\u001b[0m\u001b[0;34m\u001b[0m\u001b[0m\n\u001b[0;32m--> 169\u001b[0;31m                 \u001b[0mincoming\u001b[0m \u001b[0;34m=\u001b[0m \u001b[0mspawn\u001b[0m\u001b[0;34m.\u001b[0m\u001b[0mread_nonblocking\u001b[0m\u001b[0;34m(\u001b[0m\u001b[0mspawn\u001b[0m\u001b[0;34m.\u001b[0m\u001b[0mmaxread\u001b[0m\u001b[0;34m,\u001b[0m \u001b[0mtimeout\u001b[0m\u001b[0;34m)\u001b[0m\u001b[0;34m\u001b[0m\u001b[0;34m\u001b[0m\u001b[0m\n\u001b[0m\u001b[1;32m    170\u001b[0m                 \u001b[0;32mif\u001b[0m \u001b[0mself\u001b[0m\u001b[0;34m.\u001b[0m\u001b[0mspawn\u001b[0m\u001b[0;34m.\u001b[0m\u001b[0mdelayafterread\u001b[0m \u001b[0;32mis\u001b[0m \u001b[0;32mnot\u001b[0m \u001b[0;32mNone\u001b[0m\u001b[0;34m:\u001b[0m\u001b[0;34m\u001b[0m\u001b[0;34m\u001b[0m\u001b[0m\n",
      "\u001b[0;32m/usr/local/lib/python3.6/dist-packages/pexpect/pty_spawn.py\u001b[0m in \u001b[0;36mread_nonblocking\u001b[0;34m(self, size, timeout)\u001b[0m\n\u001b[1;32m    499\u001b[0m         \u001b[0;31m# (possibly timeout=None), we call select() with a timeout.\u001b[0m\u001b[0;34m\u001b[0m\u001b[0;34m\u001b[0m\u001b[0;34m\u001b[0m\u001b[0m\n\u001b[0;32m--> 500\u001b[0;31m         \u001b[0;32mif\u001b[0m \u001b[0;34m(\u001b[0m\u001b[0mtimeout\u001b[0m \u001b[0;34m!=\u001b[0m \u001b[0;36m0\u001b[0m\u001b[0;34m)\u001b[0m \u001b[0;32mand\u001b[0m \u001b[0mselect\u001b[0m\u001b[0;34m(\u001b[0m\u001b[0mtimeout\u001b[0m\u001b[0;34m)\u001b[0m\u001b[0;34m:\u001b[0m\u001b[0;34m\u001b[0m\u001b[0;34m\u001b[0m\u001b[0m\n\u001b[0m\u001b[1;32m    501\u001b[0m             \u001b[0;32mreturn\u001b[0m \u001b[0msuper\u001b[0m\u001b[0;34m(\u001b[0m\u001b[0mspawn\u001b[0m\u001b[0;34m,\u001b[0m \u001b[0mself\u001b[0m\u001b[0;34m)\u001b[0m\u001b[0;34m.\u001b[0m\u001b[0mread_nonblocking\u001b[0m\u001b[0;34m(\u001b[0m\u001b[0msize\u001b[0m\u001b[0;34m)\u001b[0m\u001b[0;34m\u001b[0m\u001b[0;34m\u001b[0m\u001b[0m\n",
      "\u001b[0;32m/usr/local/lib/python3.6/dist-packages/pexpect/pty_spawn.py\u001b[0m in \u001b[0;36mselect\u001b[0;34m(timeout)\u001b[0m\n\u001b[1;32m    449\u001b[0m             \u001b[0;32mdef\u001b[0m \u001b[0mselect\u001b[0m\u001b[0;34m(\u001b[0m\u001b[0mtimeout\u001b[0m\u001b[0;34m)\u001b[0m\u001b[0;34m:\u001b[0m\u001b[0;34m\u001b[0m\u001b[0;34m\u001b[0m\u001b[0m\n\u001b[0;32m--> 450\u001b[0;31m                 \u001b[0;32mreturn\u001b[0m \u001b[0mselect_ignore_interrupts\u001b[0m\u001b[0;34m(\u001b[0m\u001b[0;34m[\u001b[0m\u001b[0mself\u001b[0m\u001b[0;34m.\u001b[0m\u001b[0mchild_fd\u001b[0m\u001b[0;34m]\u001b[0m\u001b[0;34m,\u001b[0m \u001b[0;34m[\u001b[0m\u001b[0;34m]\u001b[0m\u001b[0;34m,\u001b[0m \u001b[0;34m[\u001b[0m\u001b[0;34m]\u001b[0m\u001b[0;34m,\u001b[0m \u001b[0mtimeout\u001b[0m\u001b[0;34m)\u001b[0m\u001b[0;34m[\u001b[0m\u001b[0;36m0\u001b[0m\u001b[0;34m]\u001b[0m\u001b[0;34m\u001b[0m\u001b[0;34m\u001b[0m\u001b[0m\n\u001b[0m\u001b[1;32m    451\u001b[0m \u001b[0;34m\u001b[0m\u001b[0m\n",
      "\u001b[0;32m/usr/local/lib/python3.6/dist-packages/pexpect/utils.py\u001b[0m in \u001b[0;36mselect_ignore_interrupts\u001b[0;34m(iwtd, owtd, ewtd, timeout)\u001b[0m\n\u001b[1;32m    142\u001b[0m         \u001b[0;32mtry\u001b[0m\u001b[0;34m:\u001b[0m\u001b[0;34m\u001b[0m\u001b[0;34m\u001b[0m\u001b[0m\n\u001b[0;32m--> 143\u001b[0;31m             \u001b[0;32mreturn\u001b[0m \u001b[0mselect\u001b[0m\u001b[0;34m.\u001b[0m\u001b[0mselect\u001b[0m\u001b[0;34m(\u001b[0m\u001b[0miwtd\u001b[0m\u001b[0;34m,\u001b[0m \u001b[0mowtd\u001b[0m\u001b[0;34m,\u001b[0m \u001b[0mewtd\u001b[0m\u001b[0;34m,\u001b[0m \u001b[0mtimeout\u001b[0m\u001b[0;34m)\u001b[0m\u001b[0;34m\u001b[0m\u001b[0;34m\u001b[0m\u001b[0m\n\u001b[0m\u001b[1;32m    144\u001b[0m         \u001b[0;32mexcept\u001b[0m \u001b[0mInterruptedError\u001b[0m\u001b[0;34m:\u001b[0m\u001b[0;34m\u001b[0m\u001b[0;34m\u001b[0m\u001b[0m\n",
      "\u001b[0;31mKeyboardInterrupt\u001b[0m: ",
      "\nDuring handling of the above exception, another exception occurred:\n",
      "\u001b[0;31mKeyboardInterrupt\u001b[0m                         Traceback (most recent call last)",
      "\u001b[0;32m<ipython-input-28-9d6e9d0855d8>\u001b[0m in \u001b[0;36m<module>\u001b[0;34m\u001b[0m\n\u001b[0;32m----> 1\u001b[0;31m \u001b[0mget_ipython\u001b[0m\u001b[0;34m(\u001b[0m\u001b[0;34m)\u001b[0m\u001b[0;34m.\u001b[0m\u001b[0msystem\u001b[0m\u001b[0;34m(\u001b[0m\u001b[0;34m\"CUDA_VISIBLE_DEVICES='0' python3 ../src/eval/verification.py --data-dir /storage/MysterioNet/datasets/smdf/original/casia --model models/r100-arcface-casia_masked/model,14 --target lfw-masked\"\u001b[0m\u001b[0;34m)\u001b[0m\u001b[0;34m\u001b[0m\u001b[0;34m\u001b[0m\u001b[0m\n\u001b[0m",
      "\u001b[0;32m/usr/local/lib/python3.6/dist-packages/ipykernel/zmqshell.py\u001b[0m in \u001b[0;36msystem_piped\u001b[0;34m(self, cmd)\u001b[0m\n\u001b[1;32m    633\u001b[0m                 \u001b[0mself\u001b[0m\u001b[0;34m.\u001b[0m\u001b[0muser_ns\u001b[0m\u001b[0;34m[\u001b[0m\u001b[0;34m'_exit_code'\u001b[0m\u001b[0;34m]\u001b[0m \u001b[0;34m=\u001b[0m \u001b[0msystem\u001b[0m\u001b[0;34m(\u001b[0m\u001b[0mcmd\u001b[0m\u001b[0;34m)\u001b[0m\u001b[0;34m\u001b[0m\u001b[0;34m\u001b[0m\u001b[0m\n\u001b[1;32m    634\u001b[0m         \u001b[0;32melse\u001b[0m\u001b[0;34m:\u001b[0m\u001b[0;34m\u001b[0m\u001b[0;34m\u001b[0m\u001b[0m\n\u001b[0;32m--> 635\u001b[0;31m             \u001b[0mself\u001b[0m\u001b[0;34m.\u001b[0m\u001b[0muser_ns\u001b[0m\u001b[0;34m[\u001b[0m\u001b[0;34m'_exit_code'\u001b[0m\u001b[0;34m]\u001b[0m \u001b[0;34m=\u001b[0m \u001b[0msystem\u001b[0m\u001b[0;34m(\u001b[0m\u001b[0mself\u001b[0m\u001b[0;34m.\u001b[0m\u001b[0mvar_expand\u001b[0m\u001b[0;34m(\u001b[0m\u001b[0mcmd\u001b[0m\u001b[0;34m,\u001b[0m \u001b[0mdepth\u001b[0m\u001b[0;34m=\u001b[0m\u001b[0;36m1\u001b[0m\u001b[0;34m)\u001b[0m\u001b[0;34m)\u001b[0m\u001b[0;34m\u001b[0m\u001b[0;34m\u001b[0m\u001b[0m\n\u001b[0m\u001b[1;32m    636\u001b[0m \u001b[0;34m\u001b[0m\u001b[0m\n\u001b[1;32m    637\u001b[0m     \u001b[0;31m# Ensure new system_piped implementation is used\u001b[0m\u001b[0;34m\u001b[0m\u001b[0;34m\u001b[0m\u001b[0;34m\u001b[0m\u001b[0m\n",
      "\u001b[0;32m/usr/local/lib/python3.6/dist-packages/IPython/utils/_process_posix.py\u001b[0m in \u001b[0;36msystem\u001b[0;34m(self, cmd)\u001b[0m\n\u001b[1;32m    183\u001b[0m             \u001b[0;32mfinally\u001b[0m\u001b[0;34m:\u001b[0m\u001b[0;34m\u001b[0m\u001b[0;34m\u001b[0m\u001b[0m\n\u001b[1;32m    184\u001b[0m                 \u001b[0;31m# Ensure the subprocess really is terminated\u001b[0m\u001b[0;34m\u001b[0m\u001b[0;34m\u001b[0m\u001b[0;34m\u001b[0m\u001b[0m\n\u001b[0;32m--> 185\u001b[0;31m                 \u001b[0mchild\u001b[0m\u001b[0;34m.\u001b[0m\u001b[0mterminate\u001b[0m\u001b[0;34m(\u001b[0m\u001b[0mforce\u001b[0m\u001b[0;34m=\u001b[0m\u001b[0;32mTrue\u001b[0m\u001b[0;34m)\u001b[0m\u001b[0;34m\u001b[0m\u001b[0;34m\u001b[0m\u001b[0m\n\u001b[0m\u001b[1;32m    186\u001b[0m         \u001b[0;31m# add isalive check, to ensure exitstatus is set:\u001b[0m\u001b[0;34m\u001b[0m\u001b[0;34m\u001b[0m\u001b[0;34m\u001b[0m\u001b[0m\n\u001b[1;32m    187\u001b[0m         \u001b[0mchild\u001b[0m\u001b[0;34m.\u001b[0m\u001b[0misalive\u001b[0m\u001b[0;34m(\u001b[0m\u001b[0;34m)\u001b[0m\u001b[0;34m\u001b[0m\u001b[0;34m\u001b[0m\u001b[0m\n",
      "\u001b[0;32m/usr/local/lib/python3.6/dist-packages/pexpect/pty_spawn.py\u001b[0m in \u001b[0;36mterminate\u001b[0;34m(self, force)\u001b[0m\n\u001b[1;32m    640\u001b[0m         \u001b[0;32mtry\u001b[0m\u001b[0;34m:\u001b[0m\u001b[0;34m\u001b[0m\u001b[0;34m\u001b[0m\u001b[0m\n\u001b[1;32m    641\u001b[0m             \u001b[0mself\u001b[0m\u001b[0;34m.\u001b[0m\u001b[0mkill\u001b[0m\u001b[0;34m(\u001b[0m\u001b[0msignal\u001b[0m\u001b[0;34m.\u001b[0m\u001b[0mSIGHUP\u001b[0m\u001b[0;34m)\u001b[0m\u001b[0;34m\u001b[0m\u001b[0;34m\u001b[0m\u001b[0m\n\u001b[0;32m--> 642\u001b[0;31m             \u001b[0mtime\u001b[0m\u001b[0;34m.\u001b[0m\u001b[0msleep\u001b[0m\u001b[0;34m(\u001b[0m\u001b[0mself\u001b[0m\u001b[0;34m.\u001b[0m\u001b[0mdelayafterterminate\u001b[0m\u001b[0;34m)\u001b[0m\u001b[0;34m\u001b[0m\u001b[0;34m\u001b[0m\u001b[0m\n\u001b[0m\u001b[1;32m    643\u001b[0m             \u001b[0;32mif\u001b[0m \u001b[0;32mnot\u001b[0m \u001b[0mself\u001b[0m\u001b[0;34m.\u001b[0m\u001b[0misalive\u001b[0m\u001b[0;34m(\u001b[0m\u001b[0;34m)\u001b[0m\u001b[0;34m:\u001b[0m\u001b[0;34m\u001b[0m\u001b[0;34m\u001b[0m\u001b[0m\n\u001b[1;32m    644\u001b[0m                 \u001b[0;32mreturn\u001b[0m \u001b[0;32mTrue\u001b[0m\u001b[0;34m\u001b[0m\u001b[0;34m\u001b[0m\u001b[0m\n",
      "\u001b[0;31mKeyboardInterrupt\u001b[0m: "
     ]
    }
   ],
   "source": [
    "!CUDA_VISIBLE_DEVICES='0' python3 ../src/eval/verification.py --data-dir /storage/MysterioNet/datasets/smdf/original/casia --model models/r100-arcface-casia_masked/model,14 --target lfw-masked"
   ]
  },
  {
   "cell_type": "code",
   "execution_count": 16,
   "metadata": {},
   "outputs": [
    {
     "name": "stdout",
     "output_type": "stream",
     "text": [
      "/storage/MysterioNet/datasets/smdf/original/casia/lfw-custom.bin\r\n",
      "/storage/MysterioNet/datasets/smdf/original/casia/lfw-masked.bin\r\n",
      "/storage/MysterioNet/datasets/smdf/original/casia/lfw.bin\r\n"
     ]
    }
   ],
   "source": [
    "!ls /storage/MysterioNet/datasets/smdf/original/casia/*.bin"
   ]
  },
  {
   "cell_type": "code",
   "execution_count": 3,
   "metadata": {},
   "outputs": [
    {
     "name": "stdout",
     "output_type": "stream",
     "text": [
      "/bin/sh: 1: nvidia-smi: not found\n"
     ]
    }
   ],
   "source": [
    "!nvidia-smi"
   ]
  },
  {
   "cell_type": "code",
   "execution_count": 3,
   "metadata": {},
   "outputs": [
    {
     "name": "stdout",
     "output_type": "stream",
     "text": [
      "Requirement already satisfied: opencv-python in /usr/local/lib/python3.6/dist-packages (4.2.0.34)\n",
      "Requirement already satisfied: numpy>=1.11.3 in /usr/local/lib/python3.6/dist-packages (from opencv-python) (1.18.5)\n",
      "\u001b[33mWARNING: You are using pip version 20.1.1; however, version 20.2 is available.\n",
      "You should consider upgrading via the '/usr/bin/python3.6 -m pip install --upgrade pip' command.\u001b[0m\n"
     ]
    }
   ],
   "source": [
    "!pip3 install opencv-python"
   ]
  },
  {
   "cell_type": "code",
   "execution_count": 4,
   "metadata": {},
   "outputs": [
    {
     "name": "stdout",
     "output_type": "stream",
     "text": [
      "Requirement already satisfied: scikit-learn in /usr/local/lib/python3.6/dist-packages (0.23.1)\n",
      "Requirement already satisfied: scipy>=0.19.1 in /usr/local/lib/python3.6/dist-packages (from scikit-learn) (1.4.1)\n",
      "Requirement already satisfied: threadpoolctl>=2.0.0 in /usr/local/lib/python3.6/dist-packages (from scikit-learn) (2.1.0)\n",
      "Requirement already satisfied: joblib>=0.11 in /usr/local/lib/python3.6/dist-packages (from scikit-learn) (0.15.1)\n",
      "Requirement already satisfied: numpy>=1.13.3 in /usr/local/lib/python3.6/dist-packages (from scikit-learn) (1.18.5)\n",
      "\u001b[33mWARNING: You are using pip version 20.1.1; however, version 20.2 is available.\n",
      "You should consider upgrading via the '/usr/bin/python3.6 -m pip install --upgrade pip' command.\u001b[0m\n"
     ]
    }
   ],
   "source": [
    "!pip3 install scikit-learn"
   ]
  },
  {
   "cell_type": "code",
   "execution_count": 5,
   "metadata": {},
   "outputs": [
    {
     "name": "stdout",
     "output_type": "stream",
     "text": [
      "Collecting easydict\n",
      "  Downloading easydict-1.9.tar.gz (6.4 kB)\n",
      "Building wheels for collected packages: easydict\n",
      "  Building wheel for easydict (setup.py) ... \u001b[?25ldone\n",
      "\u001b[?25h  Created wheel for easydict: filename=easydict-1.9-py3-none-any.whl size=6349 sha256=93f43e7441f9d17e484b45ed415c2ef72d3956cf2ff94e70e687f002ecbeee83\n",
      "  Stored in directory: /root/.cache/pip/wheels/5d/79/e4/4e55effe206295359b37e0f9db3e68a1197ba396682807dadb\n",
      "Successfully built easydict\n",
      "Installing collected packages: easydict\n",
      "Successfully installed easydict-1.9\n",
      "\u001b[33mWARNING: You are using pip version 20.1.1; however, version 20.2 is available.\n",
      "You should consider upgrading via the '/usr/bin/python3.6 -m pip install --upgrade pip' command.\u001b[0m\n"
     ]
    }
   ],
   "source": [
    "!pip3 install easydict"
   ]
  },
  {
   "cell_type": "code",
   "execution_count": 6,
   "metadata": {
    "scrolled": false
   },
   "outputs": [
    {
     "name": "stdout",
     "output_type": "stream",
     "text": [
      "Collecting contextvars\n",
      "  Downloading contextvars-2.4.tar.gz (9.6 kB)\n",
      "Collecting immutables>=0.9\n",
      "  Downloading immutables-0.14-cp36-cp36m-manylinux1_x86_64.whl (98 kB)\n",
      "\u001b[K     |████████████████████████████████| 98 kB 13.3 MB/s eta 0:00:01\n",
      "\u001b[?25hBuilding wheels for collected packages: contextvars\n",
      "  Building wheel for contextvars (setup.py) ... \u001b[?25ldone\n",
      "\u001b[?25h  Created wheel for contextvars: filename=contextvars-2.4-py3-none-any.whl size=7664 sha256=eed5292114111c56f825357ecacae41fb4f48e0f1b3282cef7da16b9301983c1\n",
      "  Stored in directory: /root/.cache/pip/wheels/41/11/53/911724983aa48deb94792432e14e518447212dd6c5477d49d3\n",
      "Successfully built contextvars\n",
      "Installing collected packages: immutables, contextvars\n",
      "Successfully installed contextvars-2.4 immutables-0.14\n",
      "\u001b[33mWARNING: You are using pip version 20.1.1; however, version 20.2 is available.\n",
      "You should consider upgrading via the '/usr/bin/python3.6 -m pip install --upgrade pip' command.\u001b[0m\n"
     ]
    }
   ],
   "source": [
    "!pip3 install contextvars"
   ]
  },
  {
   "cell_type": "code",
   "execution_count": 1,
   "metadata": {},
   "outputs": [
    {
     "name": "stdout",
     "output_type": "stream",
     "text": [
      "loading bin 0\n",
      "loading bin 1000\n",
      "loading bin 2000\n",
      "loading bin 3000\n",
      "loading bin 4000\n",
      "loading bin 5000\n",
      "loading bin 6000\n",
      "loading bin 7000\n",
      "loading bin 8000\n",
      "loading bin 9000\n",
      "loading bin 10000\n",
      "loading bin 11000\n",
      "loading bin 12000\n",
      "loading bin 13000\n",
      "loading bin 14000\n",
      "loading bin 15000\n",
      "loading bin 16000\n",
      "loading bin 17000\n",
      "loading bin 18000\n",
      "loading bin 19000\n",
      "loading bin 20000\n",
      "(20126, 3, 112, 112)\n"
     ]
    }
   ],
   "source": [
    "batch_size = 32\n",
    "import os\n",
    "import sys\n",
    "sys.path.append(os.path.join(os.path.dirname(\"\"), 'eval'))\n",
    "import verification\n",
    "import mxnet as mx\n",
    "import numpy as np\n",
    "import pickle\n",
    "from mxnet import ndarray as nd\n",
    "ctx = mx.gpu(0)\n",
    "image_size=[112,112]\n",
    "batch_size = 32\n",
    "sym, arg_params, aux_params = mx.model.load_checkpoint(\"models/r100-arcface-casia_masked/model\", 1)\n",
    "all_layers = sym.get_internals()\n",
    "sym = all_layers['fc1_output']\n",
    "model = mx.mod.Module(symbol=sym, context=ctx, label_names = None)\n",
    "\n",
    "model.bind(data_shapes=[('data', (batch_size, 3,112,112))])\n",
    "model.set_params(arg_params, aux_params)\n",
    "\n",
    "data_set = verification.load_bin(\"/storage/MysterioNet/datasets/smdf/original/casia/lfw-masked.bin\", image_size)"
   ]
  },
  {
   "cell_type": "code",
   "execution_count": 8,
   "metadata": {
    "scrolled": true
   },
   "outputs": [
    {
     "name": "stdout",
     "output_type": "stream",
     "text": [
      "testing verification..\n",
      "(20126, 512)\n",
      "infer time 131.38679000000008\n",
      "Threshold:  0.0074205\n",
      "Threshold:  0.0074205\n",
      "Threshold:  0.0074205\n",
      "Threshold:  0.0074205\n",
      "Threshold:  0.007892\n",
      "Threshold:  0.007338\n",
      "Threshold:  0.007225333333333334\n",
      "Threshold:  0.007169\n",
      "Threshold:  0.007419\n"
     ]
    }
   ],
   "source": [
    "acc1, std1, acc2, std2, xnorm, embeddings_list = verification.test(data_set, model, batch_size, 10, None, None)"
   ]
  },
  {
   "cell_type": "code",
   "execution_count": 9,
   "metadata": {},
   "outputs": [
    {
     "name": "stdout",
     "output_type": "stream",
     "text": [
      "XNorm: 4.292508\n",
      "Accuracy: 0.00000+-0.00000\n",
      "Accuracy-Flip: 0.57584+-0.19385\n"
     ]
    }
   ],
   "source": [
    "print('XNorm: %f' % ( xnorm))\n",
    "print('Accuracy: %1.5f+-%1.5f' % ( acc1, std1))\n",
    "print('Accuracy-Flip: %1.5f+-%1.5f' % ( acc2, std2))"
   ]
  },
  {
   "cell_type": "code",
   "execution_count": 132,
   "metadata": {},
   "outputs": [],
   "source": [
    "from matplotlib import pyplot as plt\n",
    "import numpy as np\n",
    "def render_as_image(a):\n",
    "    img = a.asnumpy() # convert to numpy array\n",
    "    img = img.transpose((1, 2, 0))\n",
    "    img = img.astype(np.uint8)  # use uint8 (0-255)\n",
    "\n",
    "    plt.imshow(img)\n",
    "    plt.show()"
   ]
  },
  {
   "cell_type": "code",
   "execution_count": 5,
   "metadata": {
    "scrolled": true
   },
   "outputs": [],
   "source": [
    "data_list = data_set[0]\n",
    "issame_list = data_set[1]\n",
    "\n",
    "_label = nd.ones( (batch_size,) )\n",
    "# no flip type\n",
    "data = data_list[0]\n",
    "embeddings = None\n",
    "ba = 0\n",
    "embeddings_list = []"
   ]
  },
  {
   "cell_type": "code",
   "execution_count": 6,
   "metadata": {},
   "outputs": [],
   "source": [
    "import numpy as np\n",
    "for i in range( len(data_list) ):\n",
    "    data = data_list[i]\n",
    "    embeddings = None\n",
    "    ba = 0\n",
    "    while ba<data.shape[0]:\n",
    "        bb = min(ba+batch_size, data.shape[0])\n",
    "        count = bb-ba\n",
    "        _data = nd.slice_axis(data, axis=0, begin=bb-batch_size, end=bb)\n",
    "        #print(_data.shape, _label.shape)\n",
    "        db = mx.io.DataBatch(data=(_data,), label=(_label,))\n",
    "        model.forward(db, is_train=False)\n",
    "        net_out = model.get_outputs()\n",
    "        #_arg, _aux = model.get_params()\n",
    "        #__arg = {}\n",
    "        #for k,v in _arg.iteritems():\n",
    "        #  __arg[k] = v.as_in_context(_ctx)\n",
    "        #_arg = __arg\n",
    "        #_arg[\"data\"] = _data.as_in_context(_ctx)\n",
    "        #_arg[\"softmax_label\"] = _label.as_in_context(_ctx)\n",
    "        #for k,v in _arg.iteritems():\n",
    "        #  print(k,v.context)\n",
    "        #exe = sym.bind(_ctx, _arg ,args_grad=None, grad_req=\"null\", aux_states=_aux)\n",
    "        #exe.forward(is_train=False)\n",
    "        #net_out = exe.outputs\n",
    "        _embeddings = net_out[0].asnumpy()\n",
    "        #print(_embeddings.shape)\n",
    "        if embeddings is None:\n",
    "            embeddings = np.zeros( (data.shape[0], _embeddings.shape[1]) )\n",
    "        embeddings[ba:bb,:] = _embeddings[(batch_size-count):,:]\n",
    "        ba = bb\n",
    "    embeddings_list.append(embeddings)"
   ]
  },
  {
   "cell_type": "code",
   "execution_count": 7,
   "metadata": {},
   "outputs": [],
   "source": [
    "_xnorm = 0.0\n",
    "_xnorm_cnt = 0\n",
    "for embed in embeddings_list:\n",
    "    for i in range(embed.shape[0]):\n",
    "        _em = embed[i]\n",
    "        _norm=np.linalg.norm(_em)\n",
    "        #print(_em.shape, _norm)\n",
    "        _xnorm+=_norm\n",
    "        _xnorm_cnt+=1\n",
    "    _xnorm /= _xnorm_cnt"
   ]
  },
  {
   "cell_type": "code",
   "execution_count": 8,
   "metadata": {},
   "outputs": [],
   "source": [
    "embeddings = embeddings_list[0] + embeddings_list[1]"
   ]
  },
  {
   "cell_type": "code",
   "execution_count": 9,
   "metadata": {},
   "outputs": [
    {
     "name": "stdout",
     "output_type": "stream",
     "text": [
      "(38354, 512)\n"
     ]
    }
   ],
   "source": [
    "import sklearn\n",
    "embeddings = sklearn.preprocessing.normalize(embeddings)\n",
    "print(embeddings.shape)"
   ]
  },
  {
   "cell_type": "code",
   "execution_count": 10,
   "metadata": {},
   "outputs": [],
   "source": [
    "thresholds = np.arange(0, 4, 0.01)"
   ]
  },
  {
   "cell_type": "code",
   "execution_count": 11,
   "metadata": {},
   "outputs": [],
   "source": [
    "embeddings1 = embeddings[0::2]\n",
    "embeddings2 = embeddings[1::2]"
   ]
  },
  {
   "cell_type": "code",
   "execution_count": 12,
   "metadata": {},
   "outputs": [],
   "source": [
    "actual_issame = issame_list"
   ]
  },
  {
   "cell_type": "code",
   "execution_count": 13,
   "metadata": {},
   "outputs": [],
   "source": [
    "nrof_pairs = min(len(actual_issame), embeddings1.shape[0])"
   ]
  },
  {
   "cell_type": "code",
   "execution_count": 14,
   "metadata": {},
   "outputs": [],
   "source": [
    "from sklearn.model_selection import KFold\n",
    "class LFold:\n",
    "  def __init__(self, n_splits = 2, shuffle = False):\n",
    "    self.n_splits = n_splits\n",
    "    if self.n_splits>1:\n",
    "      self.k_fold = KFold(n_splits = n_splits, shuffle = shuffle)\n",
    "\n",
    "  def split(self, indices):\n",
    "    if self.n_splits>1:\n",
    "      return self.k_fold.split(indices)\n",
    "    else:\n",
    "      return [(indices, indices)]\n",
    "\n",
    "nrof_folds=10\n",
    "nrof_thresholds = len(thresholds)\n",
    "k_fold = LFold(n_splits=nrof_folds, shuffle=False)"
   ]
  },
  {
   "cell_type": "code",
   "execution_count": 15,
   "metadata": {},
   "outputs": [],
   "source": [
    "val = np.zeros(nrof_folds)\n",
    "far = np.zeros(nrof_folds)"
   ]
  },
  {
   "cell_type": "code",
   "execution_count": 16,
   "metadata": {},
   "outputs": [],
   "source": [
    "diff = np.subtract(embeddings1, embeddings2)\n",
    "dist = np.sum(np.square(diff),1)"
   ]
  },
  {
   "cell_type": "code",
   "execution_count": 17,
   "metadata": {},
   "outputs": [],
   "source": [
    "indices = np.arange(nrof_pairs)"
   ]
  },
  {
   "cell_type": "code",
   "execution_count": 18,
   "metadata": {},
   "outputs": [],
   "source": [
    "x = list(k_fold.split(indices))"
   ]
  },
  {
   "cell_type": "code",
   "execution_count": 19,
   "metadata": {},
   "outputs": [],
   "source": [
    "(train_set, test_set) = x[0]"
   ]
  },
  {
   "cell_type": "code",
   "execution_count": 20,
   "metadata": {},
   "outputs": [],
   "source": [
    "far_train = np.zeros(nrof_thresholds)"
   ]
  },
  {
   "cell_type": "code",
   "execution_count": 29,
   "metadata": {},
   "outputs": [],
   "source": [
    "train_dist = dist[test_set]"
   ]
  },
  {
   "cell_type": "code",
   "execution_count": 30,
   "metadata": {},
   "outputs": [],
   "source": [
    "train_issame = np.array(actual_issame)[test_set]"
   ]
  },
  {
   "cell_type": "code",
   "execution_count": 31,
   "metadata": {},
   "outputs": [
    {
     "data": {
      "text/plain": [
       "array([0.10807752, 0.53395856, 0.53395856, ..., 0.37931892, 0.62126807,\n",
       "       1.51095461])"
      ]
     },
     "execution_count": 31,
     "metadata": {},
     "output_type": "execute_result"
    }
   ],
   "source": [
    "train_dist"
   ]
  },
  {
   "cell_type": "code",
   "execution_count": 32,
   "metadata": {},
   "outputs": [
    {
     "data": {
      "text/plain": [
       "array([ True,  True,  True, ..., False, False, False])"
      ]
     },
     "execution_count": 32,
     "metadata": {},
     "output_type": "execute_result"
    }
   ],
   "source": [
    "np.array(actual_issame)"
   ]
  },
  {
   "cell_type": "code",
   "execution_count": 33,
   "metadata": {},
   "outputs": [
    {
     "data": {
      "text/plain": [
       "(17259,)"
      ]
     },
     "execution_count": 33,
     "metadata": {},
     "output_type": "execute_result"
    }
   ],
   "source": [
    "train_set.shape"
   ]
  },
  {
   "cell_type": "code",
   "execution_count": 34,
   "metadata": {},
   "outputs": [
    {
     "data": {
      "text/plain": [
       "array([   0,    1,    2, ..., 1915, 1916, 1917])"
      ]
     },
     "execution_count": 34,
     "metadata": {},
     "output_type": "execute_result"
    }
   ],
   "source": [
    "test_set"
   ]
  },
  {
   "cell_type": "code",
   "execution_count": 35,
   "metadata": {},
   "outputs": [
    {
     "name": "stdout",
     "output_type": "stream",
     "text": [
      "71   0   0   1847\n"
     ]
    }
   ],
   "source": [
    "predict_issame = np.less(train_dist, 0.15701524999999997)\n",
    "tp = np.sum(np.logical_and(predict_issame, train_issame))\n",
    "fp = np.sum(np.logical_and(predict_issame, np.logical_not(train_issame)))\n",
    "tn = np.sum(np.logical_and(np.logical_not(predict_issame), np.logical_not(train_issame)))\n",
    "fn = np.sum(np.logical_and(np.logical_not(predict_issame), train_issame))\n",
    "print(tp, \" \", fp,\" \", tn,\" \", fn)"
   ]
  },
  {
   "cell_type": "code",
   "execution_count": 36,
   "metadata": {},
   "outputs": [],
   "source": [
    "np.sum(train_issame)\n",
    "n_diff = np.sum(np.logical_not(train_issame))"
   ]
  },
  {
   "cell_type": "code",
   "execution_count": null,
   "metadata": {},
   "outputs": [],
   "source": []
  },
  {
   "cell_type": "code",
   "execution_count": 37,
   "metadata": {},
   "outputs": [
    {
     "data": {
      "text/plain": [
       "1918"
      ]
     },
     "execution_count": 37,
     "metadata": {},
     "output_type": "execute_result"
    }
   ],
   "source": [
    "np.sum(train_issame)"
   ]
  },
  {
   "cell_type": "code",
   "execution_count": 38,
   "metadata": {},
   "outputs": [
    {
     "data": {
      "text/plain": [
       "71"
      ]
     },
     "execution_count": 38,
     "metadata": {},
     "output_type": "execute_result"
    }
   ],
   "source": [
    "np.sum(predict_issame)"
   ]
  },
  {
   "cell_type": "code",
   "execution_count": null,
   "metadata": {},
   "outputs": [],
   "source": []
  }
 ],
 "metadata": {
  "kernelspec": {
   "display_name": "Python 3",
   "language": "python",
   "name": "python3"
  },
  "language_info": {
   "codemirror_mode": {
    "name": "ipython",
    "version": 3
   },
   "file_extension": ".py",
   "mimetype": "text/x-python",
   "name": "python",
   "nbconvert_exporter": "python",
   "pygments_lexer": "ipython3",
   "version": "3.6.9"
  }
 },
 "nbformat": 4,
 "nbformat_minor": 4
}
